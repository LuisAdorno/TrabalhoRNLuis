{
  "cells": [
    {
      "cell_type": "markdown",
      "metadata": {
        "id": "view-in-github",
        "colab_type": "text"
      },
      "source": [
        "<a href=\"https://colab.research.google.com/github/LuisAdorno/TrabalhoRNLuis/blob/main/Luis_TrabalhoRN_2Multimodais_CLIP_GIT.ipynb\" target=\"_parent\"><img src=\"https://colab.research.google.com/assets/colab-badge.svg\" alt=\"Open In Colab\"/></a>"
      ]
    },
    {
      "cell_type": "markdown",
      "id": "0b614891",
      "metadata": {
        "id": "0b614891"
      },
      "source": [
        "#Modelos Multimodais: Escolhi CLIP e GIT\n"
      ]
    },
    {
      "cell_type": "code",
      "execution_count": null,
      "id": "ddda9ebd",
      "metadata": {
        "id": "ddda9ebd"
      },
      "outputs": [],
      "source": [
        "!pip install -q transformers pillow torchvision timm\n"
      ]
    },
    {
      "cell_type": "code",
      "execution_count": null,
      "id": "a916431f",
      "metadata": {
        "id": "a916431f"
      },
      "outputs": [],
      "source": [
        "from transformers import CLIPProcessor, CLIPModel, AutoProcessor, AutoTokenizer, AutoModelForCausalLM\n",
        "from PIL import Image\n",
        "import requests\n",
        "import torch\n",
        "import matplotlib.pyplot as plt\n"
      ]
    },
    {
      "cell_type": "markdown",
      "id": "7a1a7134",
      "metadata": {
        "id": "7a1a7134"
      },
      "source": [
        "#Modelo 1 — CLIP (Contrastive Language-Image Pretraining)\n",
        "\n",
        "##O CLIP relaciona imagens e textos. Ele classifica qual legenda corresponde melhor a uma imagem.\n",
        "\n",
        "##EXEMPLO 1:"
      ]
    },
    {
      "cell_type": "code",
      "source": [
        "# Link da imagem\n",
        "url = \"https://images.unsplash.com/photo-1518717758536-85ae29035b6d?auto=format&fit=crop&w=800&q=80\"\n",
        "\n",
        "# Baixar imagem\n",
        "image = Image.open(requests.get(url, stream=True).raw)\n",
        "\n",
        "# Mostrar imagem\n",
        "plt.imshow(image)\n",
        "plt.axis(\"off\")\n",
        "plt.title(\"Imagem\")\n",
        "plt.show()"
      ],
      "metadata": {
        "id": "7JPvBiWBQARX"
      },
      "id": "7JPvBiWBQARX",
      "execution_count": null,
      "outputs": []
    },
    {
      "cell_type": "code",
      "execution_count": null,
      "id": "c7db0d3e",
      "metadata": {
        "id": "c7db0d3e"
      },
      "outputs": [],
      "source": [
        "# Legendas para testar\n",
        "texts = [\"Um gato subindo uma árvore\", \"Um cachorro lambendo o focinho\"]\n",
        "\n",
        "# Carregar modelo CLIP\n",
        "clip_model = CLIPModel.from_pretrained(\"openai/clip-vit-base-patch32\")\n",
        "clip_processor = CLIPProcessor.from_pretrained(\"openai/clip-vit-base-patch32\")\n",
        "\n",
        "# Processar\n",
        "inputs = clip_processor(text=texts, images=image, return_tensors=\"pt\", padding=True)\n",
        "outputs = clip_model(**inputs)\n",
        "logits_per_image = outputs.logits_per_image\n",
        "probs = logits_per_image.softmax(dim=1)\n",
        "\n",
        "# Resultado\n",
        "for i, t in enumerate(texts):\n",
        "    print(f\"{t} -> {probs[0][i].item():.4f}\")\n"
      ]
    },
    {
      "cell_type": "markdown",
      "id": "94cb6082",
      "metadata": {
        "id": "94cb6082"
      },
      "source": [
        "###**Justificativa:** O CLIP é um modelo robusto para entender similaridade entre imagens e descrições textuais, útil em tarefas como busca por imagem, legendagem e classificação sem rótulo."
      ]
    },
    {
      "cell_type": "markdown",
      "id": "1969644c",
      "metadata": {
        "id": "1969644c"
      },
      "source": [
        "#Modelo 2 — GIT (Grounded Image-Text Transformer)\n",
        "\n",
        "###O GIT é capaz de gerar legendas a partir de imagens (Image Captioning).\n",
        "###EXEMPLO 2:"
      ]
    },
    {
      "cell_type": "code",
      "source": [
        "# Nova imagem para o modelo GIT\n",
        "new_url = \"https://images.unsplash.com/photo-1507146426996-ef05306b995a?auto=format&fit=crop&w=800&q=80\"\n",
        "new_image = Image.open(requests.get(new_url, stream=True).raw)\n",
        "\n",
        "# Mostrar a nova imagem\n",
        "plt.imshow(new_image)\n",
        "plt.axis(\"off\")\n",
        "plt.title(\"Imagem 2\")\n",
        "plt.show()"
      ],
      "metadata": {
        "id": "8SfF51PoVfOl"
      },
      "id": "8SfF51PoVfOl",
      "execution_count": null,
      "outputs": []
    },
    {
      "cell_type": "code",
      "source": [
        "# Usar a nova imagem no modelo GIT\n",
        "inputs_git = processor_git(images=new_image, return_tensors=\"pt\")\n",
        "generated_ids = model_git.generate(pixel_values=inputs_git[\"pixel_values\"], max_length=50)\n",
        "caption = processor_git.batch_decode(generated_ids, skip_special_tokens=True)[0]\n",
        "\n",
        "print(\"Legenda gerada:\", caption)"
      ],
      "metadata": {
        "id": "tx4f6aCqVnWl"
      },
      "id": "tx4f6aCqVnWl",
      "execution_count": null,
      "outputs": []
    },
    {
      "cell_type": "markdown",
      "id": "f8e31be8",
      "metadata": {
        "id": "f8e31be8"
      },
      "source": [
        "###**Justificativa:** O GIT é útil em sistemas de acessibilidade, descrição automática de imagens, e integração com perguntas visuais (VQA)."
      ]
    }
  ],
  "metadata": {
    "colab": {
      "provenance": [],
      "include_colab_link": true
    },
    "language_info": {
      "name": "python"
    },
    "kernelspec": {
      "name": "python3",
      "display_name": "Python 3"
    }
  },
  "nbformat": 4,
  "nbformat_minor": 5
}